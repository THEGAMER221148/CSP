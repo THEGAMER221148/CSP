{
 "cells": [
  {
   "cell_type": "raw",
   "id": "cae8bc40",
   "metadata": {
    "vscode": {
     "languageId": "raw"
    }
   },
   "source": [
    "---\n",
    "layout: post\n",
    "title: Lists Hacks Javascript\n",
    "description: This is a CSP Hacks notebook based on the lists lesson\n",
    "comments: true\n",
    "permalink: /csp/big-idea-3/<lists>/<4>/javascript_hw\n",
    "---"
   ]
  },
  {
   "cell_type": "markdown",
   "id": "44bdd529",
   "metadata": {},
   "source": [
    "# Javascript Lists Homework"
   ]
  },
  {
   "cell_type": "markdown",
   "id": "6a975112",
   "metadata": {},
   "source": [
    "- After going through the lists lesson work on these hacks in your own repository"
   ]
  },
  {
   "cell_type": "markdown",
   "id": "4b1ccc5c",
   "metadata": {},
   "source": [
    "### Hack 1 – Add Up Numbers\n",
    "\n",
    "Make a list of numbers. Write code to:\n",
    "1. Find the total sum.\n",
    "2. Find the average."
   ]
  },
  {
   "cell_type": "code",
   "execution_count": 2,
   "id": "9fc29a1a",
   "metadata": {
    "vscode": {
     "languageId": "javascript"
    }
   },
   "outputs": [
    {
     "data": {
      "application/javascript": "// Hack 1 – Add Up Numbers\nlet numbers = [4, 7, 1, 9, 6, 7, 10];\nlet sum = 0;\n\nfor (let i of numbers){\n    sum += i;\n}\n\nconsole.log(sum/numbers.length);\n",
      "text/plain": [
       "<IPython.core.display.Javascript object>"
      ]
     },
     "metadata": {},
     "output_type": "display_data"
    }
   ],
   "source": [
    "%%js\n",
    "// Hack 1 – Add Up Numbers\n",
    "let numbers = [4, 7, 1, 9, 6, 7, 10];\n",
    "let sum = 0;\n",
    "\n",
    "for (let i of numbers){\n",
    "    sum += i;\n",
    "}\n",
    "\n",
    "console.log(sum/numbers.length);\n"
   ]
  },
  {
   "cell_type": "markdown",
   "id": "e4a4ee74",
   "metadata": {},
   "source": [
    "output:\n",
    "\n",
    "6.285714285714286"
   ]
  },
  {
   "cell_type": "markdown",
   "id": "519b9811",
   "metadata": {},
   "source": [
    "### Hack 2 – Count Repeats\n",
    "\n",
    "Make a list with repeated items. Write code to count how many times each item appears."
   ]
  },
  {
   "cell_type": "code",
   "execution_count": 4,
   "id": "b9e989ea",
   "metadata": {
    "vscode": {
     "languageId": "javascript"
    }
   },
   "outputs": [
    {
     "data": {
      "application/javascript": "// Hack 2 – Count Repeats\nlet items = [\"cat\", \"dog\", \"cat\", \"bird\", \"bird\", \"bird\"];\n\n// Write your code here:\nlet frequency = {};\n\nfor (let item of items) {\n    if (frequency[item]) {\n        frequency[item]++;\n    } else {\n        frequency[item] = 1;\n    }\n}\n\nconsole.log(frequency);\n",
      "text/plain": [
       "<IPython.core.display.Javascript object>"
      ]
     },
     "metadata": {},
     "output_type": "display_data"
    }
   ],
   "source": [
    "%%js\n",
    "// Hack 2 – Count Repeats\n",
    "let items = [\"cat\", \"dog\", \"cat\", \"bird\", \"bird\", \"bird\"];\n",
    "\n",
    "// Write your code here:\n",
    "let frequency = {};\n",
    "\n",
    "for (let item of items) {\n",
    "    if (frequency[item]) {\n",
    "        frequency[item]++;\n",
    "    } else {\n",
    "        frequency[item] = 1;\n",
    "    }\n",
    "}\n",
    "\n",
    "console.log(frequency);\n"
   ]
  },
  {
   "cell_type": "markdown",
   "id": "b78514bc",
   "metadata": {},
   "source": [
    "output:\n",
    "\n",
    "{cat: 2, dog: 1, bird: 3}"
   ]
  },
  {
   "cell_type": "markdown",
   "id": "800ed729",
   "metadata": {},
   "source": [
    "### Hack 3 – Keep Only Evens\n",
    "\n",
    "Make a list of numbers. Write code to create a new list with only even numbers."
   ]
  },
  {
   "cell_type": "code",
   "execution_count": 7,
   "id": "4f7fc860",
   "metadata": {
    "vscode": {
     "languageId": "javascript"
    }
   },
   "outputs": [
    {
     "data": {
      "application/javascript": "// Hack 3 – Keep Only Evens\nlet numbers = [3, 8, 5, 12, 7, 9, 13, 31, 66, 18];\n\n// Write your code here:\nlet i = 0;\n\nwhile (i < numbers.length) {\n    if (numbers[i]%2 != 0){\n        numbers.splice(i, 1);\n    }else{\n        i++;\n    }\n}\n\nconsole.log(numbers);\n",
      "text/plain": [
       "<IPython.core.display.Javascript object>"
      ]
     },
     "metadata": {},
     "output_type": "display_data"
    }
   ],
   "source": [
    "%%js\n",
    "// Hack 3 – Keep Only Evens\n",
    "let numbers = [3, 8, 5, 12, 7, 9, 13, 31, 66, 18];\n",
    "\n",
    "// Write your code here:\n",
    "let i = 0;\n",
    "\n",
    "while (i < numbers.length) {\n",
    "    if (numbers[i]%2 != 0){\n",
    "        numbers.splice(i, 1);\n",
    "    }else{\n",
    "        i++;\n",
    "    }\n",
    "}\n",
    "\n",
    "console.log(numbers);"
   ]
  },
  {
   "cell_type": "markdown",
   "id": "cd76194a",
   "metadata": {},
   "source": [
    "output:\n",
    "\n",
    "(4) [8, 12, 66, 18]"
   ]
  }
 ],
 "metadata": {
  "kernelspec": {
   "display_name": "Python 3",
   "language": "python",
   "name": "python3"
  },
  "language_info": {
   "codemirror_mode": {
    "name": "ipython",
    "version": 3
   },
   "file_extension": ".py",
   "mimetype": "text/x-python",
   "name": "python",
   "nbconvert_exporter": "python",
   "pygments_lexer": "ipython3",
   "version": "3.12.3"
  }
 },
 "nbformat": 4,
 "nbformat_minor": 5
}
