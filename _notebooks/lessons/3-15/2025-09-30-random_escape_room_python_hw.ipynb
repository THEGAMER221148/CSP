{
 "cells": [
  {
   "cell_type": "raw",
   "id": "6e07d1a7",
   "metadata": {
    "vscode": {
     "languageId": "raw"
    }
   },
   "source": [
    "---\n",
    "layout: post\n",
    "title: \"Escape Room 3.15 - Hacks & Extensions\"\n",
    "description: \"Extended Python challenges and hacks for CSP 3.15 Escape Room - Random Values\"\n",
    "type: hacks\n",
    "toc: true\n",
    "comments: true\n",
    "permalink: /3.15/homework/python\n",
    "author: Team Debuggers\n",
    "---\n"
   ]
  },
  {
   "cell_type": "markdown",
   "id": "9f874417",
   "metadata": {},
   "source": [
    "# 🚀 Escape Room Python Hacks\n"
   ]
  },
  {
   "cell_type": "markdown",
   "id": "7aedbe34",
   "metadata": {},
   "source": [
    "1. Simulate rolling two dice and show all possible sums of their outcomes."
   ]
  },
  {
   "cell_type": "code",
   "execution_count": 3,
   "id": "a73638bf",
   "metadata": {},
   "outputs": [
    {
     "name": "stdout",
     "output_type": "stream",
     "text": [
      "1 1 2\n",
      "1 2 3\n",
      "1 3 4\n",
      "1 4 5\n",
      "1 5 6\n",
      "1 6 7\n",
      "2 1 3\n",
      "2 2 4\n",
      "2 3 5\n",
      "2 4 6\n",
      "2 5 7\n",
      "2 6 8\n",
      "3 1 4\n",
      "3 2 5\n",
      "3 3 6\n",
      "3 4 7\n",
      "3 5 8\n",
      "3 6 9\n",
      "4 1 5\n",
      "4 2 6\n",
      "4 3 7\n",
      "4 4 8\n",
      "4 5 9\n",
      "4 6 10\n",
      "5 1 6\n",
      "5 2 7\n",
      "5 3 8\n",
      "5 4 9\n",
      "5 5 10\n",
      "5 6 11\n",
      "6 1 7\n",
      "6 2 8\n",
      "6 3 9\n",
      "6 4 10\n",
      "6 5 11\n",
      "6 6 12\n"
     ]
    }
   ],
   "source": [
    "# 🎲 Die faces: 1, 2, 3, 4, 5, 6\n",
    "# TODO: Write code to calculate and display all possible sums\n",
    "# Hint: You may need two nested loops\n",
    "\n",
    "for d1 in range(1, 7):\n",
    "    for d2 in range(1, 7):\n",
    "        print(d1, d2, d1 + d2)\n"
   ]
  },
  {
   "cell_type": "markdown",
   "id": "323ac43a",
   "metadata": {},
   "source": [
    "2. Create a fortune teller program. The response \"Try Again\" should appear 40% of the time, while the other possible responses are \"Yes\", \"No\", and \"Maybe\"."
   ]
  },
  {
   "cell_type": "code",
   "execution_count": 5,
   "id": "c608c7e8",
   "metadata": {},
   "outputs": [
    {
     "name": "stdout",
     "output_type": "stream",
     "text": [
      "Try Again\n"
     ]
    }
   ],
   "source": [
    "import random\n",
    "\n",
    "# 🔮 Fortune Teller\n",
    "# TODO: Generate a random number between 1 and 100\n",
    "num = random.randint(0, 100)\n",
    "\n",
    "if num <= 40:\n",
    "    print(\"Try Again\")\n",
    "elif num <= 60:\n",
    "    print(\"Yes\")\n",
    "elif num <= 80:\n",
    "    print(\"No\")\n",
    "else:\n",
    "    print(\"Maybe\")\n"
   ]
  },
  {
   "cell_type": "markdown",
   "id": "f5f6ad02",
   "metadata": {},
   "source": [
    "3. Create a program that randomly selects a meal from a menu list. For example: \"Pizza\", \"Burger\", \"Salad\", \"Pasta\", \"Sushi\"."
   ]
  },
  {
   "cell_type": "code",
   "execution_count": 10,
   "id": "623d5cec",
   "metadata": {},
   "outputs": [
    {
     "name": "stdout",
     "output_type": "stream",
     "text": [
      "Sushi\n"
     ]
    }
   ],
   "source": [
    "import random\n",
    "\n",
    "# 🍔 Menu list of meals\n",
    "meals = [\"Pizza\", \"Burger\", \"Salad\", \"Pasta\", \"Sushi\"]\n",
    "\n",
    "# TODO: Pick one random meal from the list\n",
    "print(meals[random.randint(0, len(meals)-1)])\n"
   ]
  },
  {
   "cell_type": "markdown",
   "id": "e230199d",
   "metadata": {},
   "source": [
    "4. Practice using random.choice() and random.shuffle().\n",
    "\n",
    "- Use random.choice() to select one random card from a deck.\n",
    "\n",
    "- Use random.shuffle() to shuffle the entire deck."
   ]
  },
  {
   "cell_type": "code",
   "execution_count": 18,
   "id": "9efcd451",
   "metadata": {},
   "outputs": [
    {
     "name": "stdout",
     "output_type": "stream",
     "text": [
      "Deck: [2, 3, 4, 8, 5, 6, 7, 10, 9, 1] , my card: 1\n"
     ]
    }
   ],
   "source": [
    "import random\n",
    "\n",
    "# 🃏 Deck of cards (simplified as numbers 1–10 for this example)\n",
    "deck = [1,2,3,4,5,6,7,8,9,10]\n",
    "\n",
    "# TODO: Use random.choice() to pick one card\n",
    "choice = random.choice(deck)\n",
    "# TODO: Use random.shuffle() to shuffle the deck and print it\n",
    "random.shuffle(deck)\n",
    "print(f\"Deck:\", deck, \", my card:\", choice)\n"
   ]
  }
 ],
 "metadata": {
  "kernelspec": {
   "display_name": "Python 3",
   "language": "python",
   "name": "python3"
  },
  "language_info": {
   "codemirror_mode": {
    "name": "ipython",
    "version": 3
   },
   "file_extension": ".py",
   "mimetype": "text/x-python",
   "name": "python",
   "nbconvert_exporter": "python",
   "pygments_lexer": "ipython3",
   "version": "3.12.3"
  }
 },
 "nbformat": 4,
 "nbformat_minor": 5
}
